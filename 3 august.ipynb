{
 "cells": [
  {
   "cell_type": "code",
   "execution_count": 1,
   "metadata": {},
   "outputs": [
    {
     "name": "stdout",
     "output_type": "stream",
     "text": [
      "Enter First Number: 5\n",
      "Enter Second Number: 6\n",
      "Enter An Operator: +\n",
      "11\n"
     ]
    }
   ],
   "source": [
    "try:\n",
    "    num1 = int(input(\"Enter First Number: \"))\n",
    "    num2 = int(input(\"Enter Second Number: \"))\n",
    "    op = input(\"Enter An Operator: \")\n",
    "    if op == \"+\":\n",
    "        ans = num1 + num2\n",
    "        print(ans)\n",
    "    elif op == \"-\":\n",
    "        ans = num1-num2\n",
    "        print(ans)\n",
    "    elif op == \"/\":\n",
    "        ans = num1/num2\n",
    "        print(ans)\n",
    "    elif op == \"*\":\n",
    "        ans = num1*num2\n",
    "        print(ans)\n",
    "    else:\n",
    "        print(\"Operator Not Defined\")\n",
    "except ValueError:\n",
    "    print(\"Invalid Syntax\")"
   ]
  },
  {
   "cell_type": "code",
   "execution_count": 2,
   "metadata": {},
   "outputs": [
    {
     "name": "stdout",
     "output_type": "stream",
     "text": [
      "Enter First Number: 8\n",
      "Enter Second Number: 2\n",
      "Enter An Operator: -\n",
      "6\n"
     ]
    }
   ],
   "source": [
    "try:\n",
    "    num1 = int(input(\"Enter First Number: \"))\n",
    "    num2 = int(input(\"Enter Second Number: \"))\n",
    "    op = input(\"Enter An Operator: \")\n",
    "    if op == \"+\":\n",
    "        ans = num1 + num2\n",
    "        print(ans)\n",
    "    elif op == \"-\":\n",
    "        ans = num1-num2\n",
    "        print(ans)\n",
    "    elif op == \"/\":\n",
    "        ans = num1/num2\n",
    "        print(ans)\n",
    "    elif op == \"*\":\n",
    "        ans = num1*num2\n",
    "        print(ans)\n",
    "    else:\n",
    "        print(\"Operator Not Defined\")\n",
    "except ValueError:\n",
    "    print(\"Invalid Syntax\")"
   ]
  },
  {
   "cell_type": "code",
   "execution_count": 3,
   "metadata": {},
   "outputs": [
    {
     "name": "stdout",
     "output_type": "stream",
     "text": [
      "Enter First Number: 2\n",
      "Enter Second Number: 4\n",
      "Enter An Operator: *\n",
      "8\n"
     ]
    }
   ],
   "source": [
    "try:\n",
    "    num1 = int(input(\"Enter First Number: \"))\n",
    "    num2 = int(input(\"Enter Second Number: \"))\n",
    "    op = input(\"Enter An Operator: \")\n",
    "    if op == \"+\":\n",
    "        ans = num1 + num2\n",
    "        print(ans)\n",
    "    elif op == \"-\":\n",
    "        ans = num1-num2\n",
    "        print(ans)\n",
    "    elif op == \"/\":\n",
    "        ans = num1/num2\n",
    "        print(ans)\n",
    "    elif op == \"*\":\n",
    "        ans = num1*num2\n",
    "        print(ans)\n",
    "    else:\n",
    "        print(\"Operator Not Defined\")\n",
    "except ValueError:\n",
    "    print(\"Invalid Syntax\")"
   ]
  },
  {
   "cell_type": "code",
   "execution_count": 4,
   "metadata": {},
   "outputs": [
    {
     "name": "stdout",
     "output_type": "stream",
     "text": [
      "Enter First Number: 9\n",
      "Enter Second Number: 3\n",
      "Enter An Operator: /\n",
      "3.0\n"
     ]
    }
   ],
   "source": [
    "try:\n",
    "    num1 = int(input(\"Enter First Number: \"))\n",
    "    num2 = int(input(\"Enter Second Number: \"))\n",
    "    op = input(\"Enter An Operator: \")\n",
    "    if op == \"+\":\n",
    "        ans = num1 + num2\n",
    "        print(ans)\n",
    "    elif op == \"-\":\n",
    "        ans = num1-num2\n",
    "        print(ans)\n",
    "    elif op == \"/\":\n",
    "        ans = num1/num2\n",
    "        print(ans)\n",
    "    elif op == \"*\":\n",
    "        ans = num1*num2\n",
    "        print(ans)\n",
    "    else:\n",
    "        print(\"Operator Not Defined\")\n",
    "except ValueError:\n",
    "    print(\"Invalid Syntax\")"
   ]
  },
  {
   "cell_type": "code",
   "execution_count": 8,
   "metadata": {},
   "outputs": [
    {
     "name": "stdout",
     "output_type": "stream",
     "text": [
      "Enter First Number: 9\n",
      "Enter Second Number: 5\n",
      "Enter An Operator: %\n",
      "4\n"
     ]
    }
   ],
   "source": [
    "try:\n",
    "    num1 = int(input(\"Enter First Number: \"))\n",
    "    num2 = int(input(\"Enter Second Number: \"))\n",
    "    op = input(\"Enter An Operator: \")\n",
    "    if op == \"+\":\n",
    "        ans = num1 + num2\n",
    "        print(ans)\n",
    "    elif op == \"-\":\n",
    "        ans = num1-num2\n",
    "        print(ans)\n",
    "    elif op == \"/\":\n",
    "        ans = num1/num2\n",
    "        print(ans)\n",
    "    elif op == \"*\":\n",
    "        ans = num1*num2\n",
    "        print(ans)\n",
    "    elif op == \"%\":\n",
    "        ans = num1%num2\n",
    "        print(ans)\n",
    "    else:\n",
    "        print(\"Operator Not Defined\")\n",
    "except ValueError:\n",
    "    print(\"Invalid Syntax\")"
   ]
  },
  {
   "cell_type": "code",
   "execution_count": null,
   "metadata": {},
   "outputs": [],
   "source": []
  }
 ],
 "metadata": {
  "kernelspec": {
   "display_name": "Python 3",
   "language": "python",
   "name": "python3"
  },
  "language_info": {
   "codemirror_mode": {
    "name": "ipython",
    "version": 3
   },
   "file_extension": ".py",
   "mimetype": "text/x-python",
   "name": "python",
   "nbconvert_exporter": "python",
   "pygments_lexer": "ipython3",
   "version": "3.7.3"
  }
 },
 "nbformat": 4,
 "nbformat_minor": 2
}
